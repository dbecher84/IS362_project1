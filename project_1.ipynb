{
 "cells": [
  {
   "cell_type": "code",
   "execution_count": 2,
   "metadata": {},
   "outputs": [],
   "source": [
    "import pandas as pd\n",
    "import matplotlib.pyplot as plt"
   ]
  },
  {
   "cell_type": "markdown",
   "metadata": {},
   "source": [
    "import the data from the csv file using pandas"
   ]
  },
  {
   "cell_type": "code",
   "execution_count": 3,
   "metadata": {},
   "outputs": [],
   "source": [
    "file = 'C:\\\\Users\\\\dbech\\\\Documents\\\\IS362\\\\project_1\\\\flight_data.csv'\n",
    "\n",
    "data1 = pd.read_csv(file, index_col = 0)"
   ]
  },
  {
   "cell_type": "markdown",
   "metadata": {},
   "source": [
    "Here panada dataframe is anyalized. The total number of flights and the precentaged of flight that are delayed are added to the data. The dataframe is sorted by destination to more easily compare the delays for each airline into each destination. "
   ]
  },
  {
   "cell_type": "code",
   "execution_count": 65,
   "metadata": {},
   "outputs": [
    {
     "name": "stdout",
     "output_type": "stream",
     "text": [
      "           destination  on_time  delayed  total_flights  percent_delayed\n",
      "airline                                                                 \n",
      "Alaska     Los Angeles      497       62            559        11.091234\n",
      "AM West    Los Angeles      694      117            811        14.426634\n",
      "Alaska         Phoenix      221       12            233         5.150215\n",
      "AM West        Phoenix     4840      415           5255         7.897241\n",
      "Alaska       San Diego      212       20            232         8.620690\n",
      "AM West      San Diego      383       65            448        14.508929\n",
      "Alaska   San Francisco      503      102            605        16.859504\n",
      "AM West  San Francisco      320      129            449        28.730512\n",
      "Alaska         Seattle     1841      305           2146        14.212488\n",
      "AM West        Seattle      201       61            262        23.282443\n"
     ]
    }
   ],
   "source": [
    "data1['total_flights'] = data1['on_time'] + data1['delayed']\n",
    "data1['percent_delayed'] = (data1['delayed'] / data1['total_flights'] * 100)\n",
    "data2 = data1.sort_values('destination')\n",
    "print (data2)"
   ]
  },
  {
   "cell_type": "markdown",
   "metadata": {},
   "source": [
    "As the data shows Alaska has a lower precentage of delayed flights into each of the destinations.\n",
    "Nex there is a graph to help visualize the data useing matplotlib."
   ]
  },
  {
   "cell_type": "markdown",
   "metadata": {},
   "source": [
    "This is used to select data base off the name of the airline."
   ]
  },
  {
   "cell_type": "code",
   "execution_count": 116,
   "metadata": {},
   "outputs": [],
   "source": [
    "am = data2.index == 'AM West'\n",
    "al = data2.index == 'Alaska'"
   ]
  },
  {
   "cell_type": "markdown",
   "metadata": {},
   "source": [
    "Next we create the plot space and create the bar charts."
   ]
  },
  {
   "cell_type": "code",
   "execution_count": 164,
   "metadata": {},
   "outputs": [
    {
     "data": {
      "text/plain": [
       "<matplotlib.axes._subplots.AxesSubplot at 0x20b7572ecf8>"
      ]
     },
     "execution_count": 164,
     "metadata": {},
     "output_type": "execute_result"
    },
    {
     "data": {
      "image/png": "[encoded data removed]",
      "text/plain": [
       "<Figure size 432x288 with 1 Axes>"
      ]
     },
     "metadata": {},
     "output_type": "display_data"
    }
   ],
   "source": [
    "fig = plt.figure()\n",
    "ax=fig.add_subplot(111)\n",
    "width = .4\n",
    "ax.set_ylabel('Average Delay')\n",
    "ax.set_xlabel('Desitnation City')\n",
    "ax.set_title('Percentage of Delayed Flight by City')\n",
    "\n",
    "data2[am].plot(kind= 'bar', color= 'red', ax=ax, width= width, x='destination', y='percent_delayed', label= 'AM WEST')\n",
    "data2[al].plot(kind= 'bar', color= 'blue', ax=ax, width= width, x='destination', y='percent_delayed', label= 'Alaska')\n"
   ]
  },
  {
   "cell_type": "code",
   "execution_count": null,
   "metadata": {},
   "outputs": [],
   "source": []
  }
 ],
 "metadata": {
  "kernelspec": {
   "display_name": "Python 3",
   "language": "python",
   "name": "python3"
  },
  "language_info": {
   "codemirror_mode": {
    "name": "ipython",
    "version": 3
   },
   "file_extension": ".py",
   "mimetype": "text/x-python",
   "name": "python",
   "nbconvert_exporter": "python",
   "pygments_lexer": "ipython3",
   "version": "3.6.5"
  }
 },
 "nbformat": 4,
 "nbformat_minor": 2
}
